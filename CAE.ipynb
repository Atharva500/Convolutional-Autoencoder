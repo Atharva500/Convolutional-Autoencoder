{
 "cells": [
  {
   "cell_type": "code",
   "execution_count": 1,
   "metadata": {},
   "outputs": [],
   "source": [
    "import tensorflow as tf\n",
    "import keras\n",
    "from keras.layers import MaxPooling2D,Convolution2D,UpSampling2D,Input\n",
    "from keras.models import Model\n",
    "from keras.datasets import mnist\n",
    "import matplotlib.pyplot as plt\n",
    "import numpy as np"
   ]
  },
  {
   "cell_type": "code",
   "execution_count": 2,
   "metadata": {},
   "outputs": [],
   "source": [
    "(x_train,_),(x_test,_) = mnist.load_data()\n",
    "x_train = x_train.astype('float32')/255.\n",
    "x_test = x_test.astype('float32')/255.\n",
    "x_train = np.reshape(x_train,(len(x_train),28,28,1))\n",
    "x_test = np.reshape(x_test,(len(x_test),28,28,1))"
   ]
  },
  {
   "cell_type": "code",
   "execution_count": 3,
   "metadata": {},
   "outputs": [],
   "source": [
    "input = Input(shape=(28,28,1),name='input')\n",
    "#encoder\n",
    "x = Convolution2D(16,kernel_size=(3,3),padding='same',activation='relu',name='conv1')(input)\n",
    "x = MaxPooling2D(pool_size=(2,2),padding='same')(x)\n",
    "x = Convolution2D(8,kernel_size=(3,3),padding='same',activation='relu',name='conv2')(x)\n",
    "x = MaxPooling2D(pool_size=(2,2),padding='same')(x)\n",
    "x = Convolution2D(8,kernel_size=(3,3),padding='same',activation='relu',name='conv3')(x)\n",
    "x = MaxPooling2D(pool_size=(2,2),padding='same')(x)\n",
    "#decoder\n",
    "x = Convolution2D(8,kernel_size=(3,3),padding='same',activation='relu',name='conv4')(x)\n",
    "x = UpSampling2D(size=(2,2))(x)\n",
    "x = Convolution2D(8,kernel_size=(3,3),padding='same',activation='relu',name='conv5')(x)\n",
    "x = UpSampling2D(size=(2,2))(x)\n",
    "x = Convolution2D(8,kernel_size=(3,3),activation='relu',name='conv6')(x)\n",
    "x = UpSampling2D(size=(2,2))(x)\n",
    "\n",
    "output = Convolution2D(filters=1,kernel_size=(3,1),padding='same',activation='sigmoid',name='output')(x)\n",
    "\n",
    "model = Model(inputs = input , outputs = output , name='CAE')\n",
    "model.compile(optimizer='adam',loss='binary_crossentropy')"
   ]
  },
  {
   "cell_type": "code",
   "execution_count": 5,
   "metadata": {},
   "outputs": [
    {
     "name": "stdout",
     "output_type": "stream",
     "text": [
      "Model: \"CAE\"\n",
      "_________________________________________________________________\n",
      "Layer (type)                 Output Shape              Param #   \n",
      "=================================================================\n",
      "input (InputLayer)           (None, 28, 28, 1)         0         \n",
      "_________________________________________________________________\n",
      "conv1 (Conv2D)               (None, 28, 28, 16)        160       \n",
      "_________________________________________________________________\n",
      "max_pooling2d_1 (MaxPooling2 (None, 14, 14, 16)        0         \n",
      "_________________________________________________________________\n",
      "conv2 (Conv2D)               (None, 14, 14, 8)         1160      \n",
      "_________________________________________________________________\n",
      "max_pooling2d_2 (MaxPooling2 (None, 7, 7, 8)           0         \n",
      "_________________________________________________________________\n",
      "conv3 (Conv2D)               (None, 7, 7, 8)           584       \n",
      "_________________________________________________________________\n",
      "max_pooling2d_3 (MaxPooling2 (None, 4, 4, 8)           0         \n",
      "_________________________________________________________________\n",
      "conv4 (Conv2D)               (None, 4, 4, 8)           584       \n",
      "_________________________________________________________________\n",
      "up_sampling2d_1 (UpSampling2 (None, 8, 8, 8)           0         \n",
      "_________________________________________________________________\n",
      "conv5 (Conv2D)               (None, 8, 8, 8)           584       \n",
      "_________________________________________________________________\n",
      "up_sampling2d_2 (UpSampling2 (None, 16, 16, 8)         0         \n",
      "_________________________________________________________________\n",
      "conv6 (Conv2D)               (None, 14, 14, 8)         584       \n",
      "_________________________________________________________________\n",
      "up_sampling2d_3 (UpSampling2 (None, 28, 28, 8)         0         \n",
      "_________________________________________________________________\n",
      "output (Conv2D)              (None, 28, 28, 1)         25        \n",
      "=================================================================\n",
      "Total params: 3,681\n",
      "Trainable params: 3,681\n",
      "Non-trainable params: 0\n",
      "_________________________________________________________________\n"
     ]
    }
   ],
   "source": [
    "model.summary()"
   ]
  },
  {
   "cell_type": "code",
   "execution_count": 6,
   "metadata": {},
   "outputs": [
    {
     "name": "stdout",
     "output_type": "stream",
     "text": [
      "Epoch 1/50\n",
      "60000/60000 [==============================] - 49s 819us/step - loss: 0.1707\n",
      "Epoch 2/50\n",
      "60000/60000 [==============================] - 55s 917us/step - loss: 0.1339\n",
      "Epoch 3/50\n",
      "60000/60000 [==============================] - 52s 873us/step - loss: 0.1279\n",
      "Epoch 4/50\n",
      "60000/60000 [==============================] - 55s 909us/step - loss: 0.1247\n",
      "Epoch 5/50\n",
      "60000/60000 [==============================] - 54s 903us/step - loss: 0.1226\n",
      "Epoch 6/50\n",
      "60000/60000 [==============================] - 54s 905us/step - loss: 0.1211\n",
      "Epoch 7/50\n",
      "60000/60000 [==============================] - 58s 962us/step - loss: 0.1198\n",
      "Epoch 8/50\n",
      "60000/60000 [==============================] - 58s 966us/step - loss: 0.1188\n",
      "Epoch 9/50\n",
      "60000/60000 [==============================] - 53s 882us/step - loss: 0.1178\n",
      "Epoch 10/50\n",
      "60000/60000 [==============================] - 54s 900us/step - loss: 0.1170\n",
      "Epoch 11/50\n",
      "60000/60000 [==============================] - 54s 899us/step - loss: 0.1162\n",
      "Epoch 12/50\n",
      "60000/60000 [==============================] - 56s 932us/step - loss: 0.1155\n",
      "Epoch 13/50\n",
      "60000/60000 [==============================] - 65s 1ms/step - loss: 0.1150\n",
      "Epoch 14/50\n",
      "60000/60000 [==============================] - 58s 966us/step - loss: 0.1144\n",
      "Epoch 15/50\n",
      "60000/60000 [==============================] - 67s 1ms/step - loss: 0.1140\n",
      "Epoch 16/50\n",
      "60000/60000 [==============================] - 59s 983us/step - loss: 0.1136\n",
      "Epoch 17/50\n",
      "60000/60000 [==============================] - 58s 975us/step - loss: 0.1132\n",
      "Epoch 18/50\n",
      "60000/60000 [==============================] - 61s 1ms/step - loss: 0.1129\n",
      "Epoch 19/50\n",
      "60000/60000 [==============================] - 57s 954us/step - loss: 0.1126\n",
      "Epoch 20/50\n",
      "60000/60000 [==============================] - 59s 978us/step - loss: 0.1123\n",
      "Epoch 21/50\n",
      "60000/60000 [==============================] - 60s 1ms/step - loss: 0.1120\n",
      "Epoch 22/50\n",
      "60000/60000 [==============================] - 62s 1ms/step - loss: 0.1117\n",
      "Epoch 23/50\n",
      "60000/60000 [==============================] - 58s 964us/step - loss: 0.1115\n",
      "Epoch 24/50\n",
      "60000/60000 [==============================] - 53s 883us/step - loss: 0.1112\n",
      "Epoch 25/50\n",
      "60000/60000 [==============================] - 56s 927us/step - loss: 0.1110\n",
      "Epoch 26/50\n",
      "60000/60000 [==============================] - 56s 927us/step - loss: 0.1108\n",
      "Epoch 27/50\n",
      "60000/60000 [==============================] - 57s 947us/step - loss: 0.1106\n",
      "Epoch 28/50\n",
      "60000/60000 [==============================] - 58s 961us/step - loss: 0.1103\n",
      "Epoch 29/50\n",
      "60000/60000 [==============================] - 58s 974us/step - loss: 0.1100\n",
      "Epoch 30/50\n",
      "60000/60000 [==============================] - 59s 983us/step - loss: 0.1098\n",
      "Epoch 31/50\n",
      "60000/60000 [==============================] - 58s 974us/step - loss: 0.1095\n",
      "Epoch 32/50\n",
      "60000/60000 [==============================] - 60s 1ms/step - loss: 0.1093\n",
      "Epoch 33/50\n",
      "60000/60000 [==============================] - 61s 1ms/step - loss: 0.1092\n",
      "Epoch 34/50\n",
      "60000/60000 [==============================] - 59s 986us/step - loss: 0.1090\n",
      "Epoch 35/50\n",
      "60000/60000 [==============================] - 61s 1ms/step - loss: 0.1088\n",
      "Epoch 36/50\n",
      "60000/60000 [==============================] - 61s 1ms/step - loss: 0.1087\n",
      "Epoch 37/50\n",
      "60000/60000 [==============================] - 59s 981us/step - loss: 0.1086\n",
      "Epoch 38/50\n",
      "60000/60000 [==============================] - 56s 928us/step - loss: 0.1084\n",
      "Epoch 39/50\n",
      "60000/60000 [==============================] - 51s 842us/step - loss: 0.1083\n",
      "Epoch 40/50\n",
      "60000/60000 [==============================] - 50s 840us/step - loss: 0.1082\n",
      "Epoch 41/50\n",
      "60000/60000 [==============================] - 50s 838us/step - loss: 0.1082\n",
      "Epoch 42/50\n",
      "60000/60000 [==============================] - 51s 843us/step - loss: 0.1080\n",
      "Epoch 43/50\n",
      "60000/60000 [==============================] - 52s 861us/step - loss: 0.1079\n",
      "Epoch 44/50\n",
      "60000/60000 [==============================] - 52s 868us/step - loss: 0.1078\n",
      "Epoch 45/50\n",
      "60000/60000 [==============================] - 56s 938us/step - loss: 0.1078\n",
      "Epoch 46/50\n",
      "60000/60000 [==============================] - 64s 1ms/step - loss: 0.1077\n",
      "Epoch 47/50\n",
      "60000/60000 [==============================] - 56s 938us/step - loss: 0.1076\n",
      "Epoch 48/50\n",
      "60000/60000 [==============================] - 59s 988us/step - loss: 0.1076\n",
      "Epoch 49/50\n",
      "60000/60000 [==============================] - 62s 1ms/step - loss: 0.1075\n",
      "Epoch 50/50\n",
      "60000/60000 [==============================] - 67s 1ms/step - loss: 0.1074\n"
     ]
    },
    {
     "data": {
      "text/plain": [
       "<keras.callbacks.callbacks.History at 0x2984641e308>"
      ]
     },
     "execution_count": 6,
     "metadata": {},
     "output_type": "execute_result"
    }
   ],
   "source": [
    "model.fit(x_train,x_train,batch_size=32,epochs=50)"
   ]
  },
  {
   "cell_type": "code",
   "execution_count": 7,
   "metadata": {},
   "outputs": [],
   "source": [
    "pred = model.predict(x_test)"
   ]
  },
  {
   "cell_type": "code",
   "execution_count": 10,
   "metadata": {},
   "outputs": [
    {
     "data": {
      "image/png": "[encoded data removed]",
      "text/plain": [
       "<Figure size 1080x288 with 20 Axes>"
      ]
     },
     "metadata": {
      "needs_background": "light"
     },
     "output_type": "display_data"
    }
   ],
   "source": [
    "plt.figure(figsize=(15,4))\n",
    "for i in range(10):\n",
    "    #original\n",
    "    ax = plt.subplot(2,10,i+1)\n",
    "    plt.imshow(x_test[i].reshape(28,28))\n",
    "    #reconstruction\n",
    "    ax = plt.subplot(2,10,i+1+10)\n",
    "    plt.imshow(pred[i].reshape(28,28))\n",
    "plt.show()    "
   ]
  },
  {
   "cell_type": "code",
   "execution_count": null,
   "metadata": {},
   "outputs": [],
   "source": []
  }
 ],
 "metadata": {
  "kernelspec": {
   "display_name": "Python 3",
   "language": "python",
   "name": "python3"
  },
  "language_info": {
   "codemirror_mode": {
    "name": "ipython",
    "version": 3
   },
   "file_extension": ".py",
   "mimetype": "text/x-python",
   "name": "python",
   "nbconvert_exporter": "python",
   "pygments_lexer": "ipython3",
   "version": "3.7.4"
  }
 },
 "nbformat": 4,
 "nbformat_minor": 2
}
